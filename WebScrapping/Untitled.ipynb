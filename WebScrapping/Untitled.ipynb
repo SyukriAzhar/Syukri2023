{
 "cells": [
  {
   "cell_type": "code",
   "execution_count": 1,
   "id": "db2dcd3e",
   "metadata": {},
   "outputs": [],
   "source": [
    "import requests\n",
    "from bs4 import BeautifulSoup\n",
    "import pandas as pd"
   ]
  },
  {
   "cell_type": "code",
   "execution_count": 2,
   "id": "8acfea9d",
   "metadata": {},
   "outputs": [],
   "source": [
    "url = \"https://books.toscrape.com/index.html\"\n",
    "response = requests.get(url)"
   ]
  },
  {
   "cell_type": "code",
   "execution_count": 3,
   "id": "07b20148",
   "metadata": {},
   "outputs": [],
   "source": [
    "# Parse the HTML content of the page\n",
    "soup = BeautifulSoup(response.text, \"html.parser\")\n",
    "\n",
    "# Find all categories with names ending in 'y'\n",
    "categories = soup.select(\"ul.nav-list > li > ul > li > a\")\n",
    "filtered_categories = [category for category in categories if category.text.strip().endswith(\"y\")]"
   ]
  },
  {
   "cell_type": "code",
   "execution_count": 4,
   "id": "e314ef59",
   "metadata": {},
   "outputs": [
    {
     "data": {
      "text/plain": [
       "[<a href=\"catalogue/category/books/mystery_3/index.html\">\n",
       "                             \n",
       "                                 Mystery\n",
       "                             \n",
       "                         </a>,\n",
       " <a href=\"catalogue/category/books/philosophy_7/index.html\">\n",
       "                             \n",
       "                                 Philosophy\n",
       "                             \n",
       "                         </a>,\n",
       " <a href=\"catalogue/category/books/fantasy_19/index.html\">\n",
       "                             \n",
       "                                 Fantasy\n",
       "                             \n",
       "                         </a>,\n",
       " <a href=\"catalogue/category/books/poetry_23/index.html\">\n",
       "                             \n",
       "                                 Poetry\n",
       "                             \n",
       "                         </a>,\n",
       " <a href=\"catalogue/category/books/psychology_26/index.html\">\n",
       "                             \n",
       "                                 Psychology\n",
       "                             \n",
       "                         </a>,\n",
       " <a href=\"catalogue/category/books/autobiography_27/index.html\">\n",
       "                             \n",
       "                                 Autobiography\n",
       "                             \n",
       "                         </a>,\n",
       " <a href=\"catalogue/category/books/history_32/index.html\">\n",
       "                             \n",
       "                                 History\n",
       "                             \n",
       "                         </a>,\n",
       " <a href=\"catalogue/category/books/biography_36/index.html\">\n",
       "                             \n",
       "                                 Biography\n",
       "                             \n",
       "                         </a>,\n",
       " <a href=\"catalogue/category/books/contemporary_38/index.html\">\n",
       "                             \n",
       "                                 Contemporary\n",
       "                             \n",
       "                         </a>,\n",
       " <a href=\"catalogue/category/books/spirituality_39/index.html\">\n",
       "                             \n",
       "                                 Spirituality\n",
       "                             \n",
       "                         </a>]"
      ]
     },
     "execution_count": 4,
     "metadata": {},
     "output_type": "execute_result"
    }
   ],
   "source": [
    "filtered_categories"
   ]
  },
  {
   "cell_type": "code",
   "execution_count": 6,
   "id": "22cc6f20",
   "metadata": {},
   "outputs": [],
   "source": [
    "for category in filtered_categories:\n",
    "        category_name = category.text.strip()\n",
    "        # Get the URL of the category\n",
    "        category_url = url.replace(\"index.html\", category.get(\"href\"))"
   ]
  },
  {
   "cell_type": "code",
   "execution_count": 7,
   "id": "59b49ee7",
   "metadata": {},
   "outputs": [
    {
     "data": {
      "text/plain": [
       "'Spirituality'"
      ]
     },
     "execution_count": 7,
     "metadata": {},
     "output_type": "execute_result"
    }
   ],
   "source": [
    "category_name"
   ]
  },
  {
   "cell_type": "code",
   "execution_count": 8,
   "id": "d7a60b70",
   "metadata": {},
   "outputs": [
    {
     "data": {
      "text/plain": [
       "'https://books.toscrape.com/catalogue/category/books/spirituality_39/index.html'"
      ]
     },
     "execution_count": 8,
     "metadata": {},
     "output_type": "execute_result"
    }
   ],
   "source": [
    "category_url"
   ]
  },
  {
   "cell_type": "code",
   "execution_count": 10,
   "id": "798b6ce1",
   "metadata": {},
   "outputs": [
    {
     "data": {
      "text/plain": [
       "'index.html'"
      ]
     },
     "execution_count": 10,
     "metadata": {},
     "output_type": "execute_result"
    }
   ],
   "source": [
    "\"index.html\""
   ]
  },
  {
   "cell_type": "code",
   "execution_count": 11,
   "id": "fd9581a6",
   "metadata": {},
   "outputs": [
    {
     "data": {
      "text/plain": [
       "'https://books.toscrape.com/index.html'"
      ]
     },
     "execution_count": 11,
     "metadata": {},
     "output_type": "execute_result"
    }
   ],
   "source": [
    "url"
   ]
  }
 ],
 "metadata": {
  "kernelspec": {
   "display_name": "Python 3 (ipykernel)",
   "language": "python",
   "name": "python3"
  },
  "language_info": {
   "codemirror_mode": {
    "name": "ipython",
    "version": 3
   },
   "file_extension": ".py",
   "mimetype": "text/x-python",
   "name": "python",
   "nbconvert_exporter": "python",
   "pygments_lexer": "ipython3",
   "version": "3.11.4"
  }
 },
 "nbformat": 4,
 "nbformat_minor": 5
}
